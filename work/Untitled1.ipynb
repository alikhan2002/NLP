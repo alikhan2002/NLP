{
 "cells": [
  {
   "cell_type": "code",
   "execution_count": 1,
   "id": "f3cc2cb0",
   "metadata": {},
   "outputs": [
    {
     "ename": "ModuleNotFoundError",
     "evalue": "No module named 'catboost'",
     "output_type": "error",
     "traceback": [
      "\u001b[1;31m---------------------------------------------------------------------------\u001b[0m",
      "\u001b[1;31mModuleNotFoundError\u001b[0m                       Traceback (most recent call last)",
      "Cell \u001b[1;32mIn[1], line 1\u001b[0m\n\u001b[1;32m----> 1\u001b[0m \u001b[38;5;28;01mfrom\u001b[39;00m \u001b[38;5;21;01mcatboost\u001b[39;00m \u001b[38;5;28;01mimport\u001b[39;00m CatBoostClassifier\n\u001b[0;32m      2\u001b[0m \u001b[38;5;28;01mimport\u001b[39;00m \u001b[38;5;21;01mnumpy\u001b[39;00m \u001b[38;5;28;01mas\u001b[39;00m \u001b[38;5;21;01mnp\u001b[39;00m\n\u001b[0;32m      3\u001b[0m \u001b[38;5;28;01mimport\u001b[39;00m \u001b[38;5;21;01mpandas\u001b[39;00m \u001b[38;5;28;01mas\u001b[39;00m \u001b[38;5;21;01mpd\u001b[39;00m\n",
      "\u001b[1;31mModuleNotFoundError\u001b[0m: No module named 'catboost'"
     ]
    }
   ],
   "source": [
    "from catboost import CatBoostClassifier\n",
    "import numpy as np\n",
    "import pandas as pd"
   ]
  },
  {
   "cell_type": "code",
   "execution_count": 3,
   "id": "b1556918",
   "metadata": {},
   "outputs": [
    {
     "name": "stdout",
     "output_type": "stream",
     "text": [
      "Collecting pyyaml==5.4.1\n",
      "  Downloading PyYAML-5.4.1.tar.gz (175 kB)\n",
      "     ---------------------------------------- 0.0/175.1 kB ? eta -:--:--\n",
      "     -- ------------------------------------- 10.2/175.1 kB ? eta -:--:--\n",
      "     -- ------------------------------------- 10.2/175.1 kB ? eta -:--:--\n",
      "     -------- ---------------------------- 41.0/175.1 kB 245.8 kB/s eta 0:00:01\n",
      "     --------------- --------------------- 71.7/175.1 kB 393.8 kB/s eta 0:00:01\n",
      "     ----------------------------- ------ 143.4/175.1 kB 607.9 kB/s eta 0:00:01\n",
      "     ------------------------------------ 175.1/175.1 kB 659.6 kB/s eta 0:00:00\n",
      "  Preparing metadata (pyproject.toml): started\n",
      "  Preparing metadata (pyproject.toml): finished with status 'done'\n",
      "Building wheels for collected packages: pyyaml\n",
      "  Building wheel for pyyaml (pyproject.toml): started\n",
      "  Building wheel for pyyaml (pyproject.toml): finished with status 'done'\n",
      "  Created wheel for pyyaml: filename=PyYAML-5.4.1-cp312-cp312-win_amd64.whl size=45669 sha256=57ebeff1bc013843dc62619f16ff02da3edf2dbff138759aa779e2d549a1f155\n",
      "  Stored in directory: c:\\users\\aliha\\appdata\\local\\pip\\cache\\wheels\\db\\55\\e5\\815110eef60d46b744555e67a31f4925346437926cedac7065\n",
      "Successfully built pyyaml\n",
      "Installing collected packages: pyyaml\n",
      "  Attempting uninstall: pyyaml\n",
      "    Found existing installation: PyYAML 6.0.1\n",
      "    Uninstalling PyYAML-6.0.1:\n",
      "      Successfully uninstalled PyYAML-6.0.1\n",
      "Successfully installed pyyaml-5.4.1\n",
      "Note: you may need to restart the kernel to use updated packages.\n"
     ]
    },
    {
     "name": "stderr",
     "output_type": "stream",
     "text": [
      "  WARNING: Failed to remove contents in a temporary directory 'C:\\Users\\aliha\\AppData\\Local\\Programs\\Python\\Python312\\Lib\\site-packages\\~aml'.\n",
      "  You can safely remove it manually.\n",
      "ERROR: pip's dependency resolver does not currently take into account all the packages that are installed. This behaviour is the source of the following dependency conflicts.\n",
      "chromadb 0.4.22 requires PyYAML>=6.0.0, but you have pyyaml 5.4.1 which is incompatible.\n",
      "jupyter-events 0.9.0 requires jsonschema[format-nongpl]>=4.18.0, but you have jsonschema 3.2.0 which is incompatible.\n",
      "label-studio 1.11.0 requires pyyaml>=6.0.0, but you have pyyaml 5.4.1 which is incompatible.\n",
      "label-studio 1.11.0 requires wheel<=0.40.0,>=0.38.1, but you have wheel 0.42.0 which is incompatible.\n"
     ]
    }
   ],
   "source": [
    "pip install \"pyyaml==5.4.1\" --no-build-isolation"
   ]
  },
  {
   "cell_type": "code",
   "execution_count": 1,
   "id": "3a996fd4",
   "metadata": {},
   "outputs": [
    {
     "name": "stdout",
     "output_type": "stream",
     "text": [
      "Collecting catboost\n",
      "  Using cached catboost-1.2.2.tar.gz (60.1 MB)\n",
      "  Installing build dependencies: started\n",
      "  Installing build dependencies: finished with status 'error'\n",
      "Note: you may need to restart the kernel to use updated packages.\n"
     ]
    },
    {
     "name": "stderr",
     "output_type": "stream",
     "text": [
      "  error: subprocess-exited-with-error\n",
      "  \n",
      "  pip subprocess to install build dependencies did not run successfully.\n",
      "  exit code: 1\n",
      "  \n",
      "  [117 lines of output]\n",
      "  Collecting setuptools>=64.0\n",
      "    Using cached setuptools-69.1.0-py3-none-any.whl.metadata (6.1 kB)\n",
      "  Collecting wheel\n",
      "    Using cached wheel-0.42.0-py3-none-any.whl.metadata (2.2 kB)\n",
      "  Collecting jupyterlab\n",
      "    Using cached jupyterlab-4.1.2-py3-none-any.whl.metadata (15 kB)\n",
      "  Collecting conan<=1.59,>=1.57\n",
      "    Using cached conan-1.59.0.tar.gz (780 kB)\n",
      "    Preparing metadata (setup.py): started\n",
      "    Preparing metadata (setup.py): finished with status 'done'\n",
      "  Collecting async-lru>=1.0.0 (from jupyterlab)\n",
      "    Using cached async_lru-2.0.4-py3-none-any.whl.metadata (4.5 kB)\n",
      "  Collecting httpx>=0.25.0 (from jupyterlab)\n",
      "    Using cached httpx-0.27.0-py3-none-any.whl.metadata (7.2 kB)\n",
      "  Collecting ipykernel (from jupyterlab)\n",
      "    Using cached ipykernel-6.29.2-py3-none-any.whl.metadata (6.0 kB)\n",
      "  Collecting jinja2>=3.0.3 (from jupyterlab)\n",
      "    Using cached Jinja2-3.1.3-py3-none-any.whl.metadata (3.3 kB)\n",
      "  Collecting jupyter-core (from jupyterlab)\n",
      "    Using cached jupyter_core-5.7.1-py3-none-any.whl.metadata (3.4 kB)\n",
      "  Collecting jupyter-lsp>=2.0.0 (from jupyterlab)\n",
      "    Using cached jupyter_lsp-2.2.2-py3-none-any.whl.metadata (1.8 kB)\n",
      "  Collecting jupyter-server<3,>=2.4.0 (from jupyterlab)\n",
      "    Using cached jupyter_server-2.12.5-py3-none-any.whl.metadata (8.4 kB)\n",
      "  Collecting jupyterlab-server<3,>=2.19.0 (from jupyterlab)\n",
      "    Using cached jupyterlab_server-2.25.3-py3-none-any.whl.metadata (5.9 kB)\n",
      "  Collecting notebook-shim>=0.2 (from jupyterlab)\n",
      "    Using cached notebook_shim-0.2.4-py3-none-any.whl.metadata (4.0 kB)\n",
      "  Collecting packaging (from jupyterlab)\n",
      "    Using cached packaging-23.2-py3-none-any.whl.metadata (3.2 kB)\n",
      "  Collecting tornado>=6.2.0 (from jupyterlab)\n",
      "    Using cached tornado-6.4-cp38-abi3-win_amd64.whl.metadata (2.6 kB)\n",
      "  Collecting traitlets (from jupyterlab)\n",
      "    Using cached traitlets-5.14.1-py3-none-any.whl.metadata (10 kB)\n",
      "  Collecting requests<3.0.0,>=2.25 (from conan<=1.59,>=1.57)\n",
      "    Using cached requests-2.31.0-py3-none-any.whl.metadata (4.6 kB)\n",
      "  Collecting urllib3<1.27,>=1.26.6 (from conan<=1.59,>=1.57)\n",
      "    Using cached urllib3-1.26.18-py2.py3-none-any.whl.metadata (48 kB)\n",
      "  Collecting colorama<0.5.0,>=0.3.3 (from conan<=1.59,>=1.57)\n",
      "    Using cached colorama-0.4.6-py2.py3-none-any.whl.metadata (17 kB)\n",
      "  Collecting PyYAML<=6.0,>=3.11 (from conan<=1.59,>=1.57)\n",
      "    Using cached PyYAML-6.0.tar.gz (124 kB)\n",
      "    Installing build dependencies: started\n",
      "    Installing build dependencies: finished with status 'done'\n",
      "    Getting requirements to build wheel: started\n",
      "    Getting requirements to build wheel: finished with status 'error'\n",
      "    error: subprocess-exited-with-error\n",
      "  \n",
      "    Getting requirements to build wheel did not run successfully.\n",
      "    exit code: 1\n",
      "  \n",
      "    [54 lines of output]\n",
      "    running egg_info\n",
      "    writing lib\\PyYAML.egg-info\\PKG-INFO\n",
      "    writing dependency_links to lib\\PyYAML.egg-info\\dependency_links.txt\n",
      "    writing top-level names to lib\\PyYAML.egg-info\\top_level.txt\n",
      "    Traceback (most recent call last):\n",
      "      File \"C:\\Users\\aliha\\AppData\\Local\\Programs\\Python\\Python312\\Lib\\site-packages\\pip\\_vendor\\pyproject_hooks\\_in_process\\_in_process.py\", line 353, in <module>\n",
      "        main()\n",
      "      File \"C:\\Users\\aliha\\AppData\\Local\\Programs\\Python\\Python312\\Lib\\site-packages\\pip\\_vendor\\pyproject_hooks\\_in_process\\_in_process.py\", line 335, in main\n",
      "        json_out['return_val'] = hook(**hook_input['kwargs'])\n",
      "                                 ^^^^^^^^^^^^^^^^^^^^^^^^^^^^\n",
      "      File \"C:\\Users\\aliha\\AppData\\Local\\Programs\\Python\\Python312\\Lib\\site-packages\\pip\\_vendor\\pyproject_hooks\\_in_process\\_in_process.py\", line 118, in get_requires_for_build_wheel\n",
      "        return hook(config_settings)\n",
      "               ^^^^^^^^^^^^^^^^^^^^^\n",
      "      File \"C:\\Users\\aliha\\AppData\\Local\\Temp\\pip-build-env-3hkt8raz\\overlay\\Lib\\site-packages\\setuptools\\build_meta.py\", line 325, in get_requires_for_build_wheel\n",
      "        return self._get_build_requires(config_settings, requirements=['wheel'])\n",
      "               ^^^^^^^^^^^^^^^^^^^^^^^^^^^^^^^^^^^^^^^^^^^^^^^^^^^^^^^^^^^^^^^^^\n",
      "      File \"C:\\Users\\aliha\\AppData\\Local\\Temp\\pip-build-env-3hkt8raz\\overlay\\Lib\\site-packages\\setuptools\\build_meta.py\", line 295, in _get_build_requires\n",
      "        self.run_setup()\n",
      "      File \"C:\\Users\\aliha\\AppData\\Local\\Temp\\pip-build-env-3hkt8raz\\overlay\\Lib\\site-packages\\setuptools\\build_meta.py\", line 311, in run_setup\n",
      "        exec(code, locals())\n",
      "      File \"<string>\", line 288, in <module>\n",
      "      File \"C:\\Users\\aliha\\AppData\\Local\\Temp\\pip-build-env-3hkt8raz\\overlay\\Lib\\site-packages\\setuptools\\__init__.py\", line 103, in setup\n",
      "        return distutils.core.setup(**attrs)\n",
      "               ^^^^^^^^^^^^^^^^^^^^^^^^^^^^^\n",
      "      File \"C:\\Users\\aliha\\AppData\\Local\\Temp\\pip-build-env-3hkt8raz\\overlay\\Lib\\site-packages\\setuptools\\_distutils\\core.py\", line 185, in setup\n",
      "        return run_commands(dist)\n",
      "               ^^^^^^^^^^^^^^^^^^\n",
      "      File \"C:\\Users\\aliha\\AppData\\Local\\Temp\\pip-build-env-3hkt8raz\\overlay\\Lib\\site-packages\\setuptools\\_distutils\\core.py\", line 201, in run_commands\n",
      "        dist.run_commands()\n",
      "      File \"C:\\Users\\aliha\\AppData\\Local\\Temp\\pip-build-env-3hkt8raz\\overlay\\Lib\\site-packages\\setuptools\\_distutils\\dist.py\", line 969, in run_commands\n",
      "        self.run_command(cmd)\n",
      "      File \"C:\\Users\\aliha\\AppData\\Local\\Temp\\pip-build-env-3hkt8raz\\overlay\\Lib\\site-packages\\setuptools\\dist.py\", line 963, in run_command\n",
      "        super().run_command(command)\n",
      "      File \"C:\\Users\\aliha\\AppData\\Local\\Temp\\pip-build-env-3hkt8raz\\overlay\\Lib\\site-packages\\setuptools\\_distutils\\dist.py\", line 988, in run_command\n",
      "        cmd_obj.run()\n",
      "      File \"C:\\Users\\aliha\\AppData\\Local\\Temp\\pip-build-env-3hkt8raz\\overlay\\Lib\\site-packages\\setuptools\\command\\egg_info.py\", line 321, in run\n",
      "        self.find_sources()\n",
      "      File \"C:\\Users\\aliha\\AppData\\Local\\Temp\\pip-build-env-3hkt8raz\\overlay\\Lib\\site-packages\\setuptools\\command\\egg_info.py\", line 329, in find_sources\n",
      "        mm.run()\n",
      "      File \"C:\\Users\\aliha\\AppData\\Local\\Temp\\pip-build-env-3hkt8raz\\overlay\\Lib\\site-packages\\setuptools\\command\\egg_info.py\", line 550, in run\n",
      "        self.add_defaults()\n",
      "      File \"C:\\Users\\aliha\\AppData\\Local\\Temp\\pip-build-env-3hkt8raz\\overlay\\Lib\\site-packages\\setuptools\\command\\egg_info.py\", line 588, in add_defaults\n",
      "        sdist.add_defaults(self)\n",
      "      File \"C:\\Users\\aliha\\AppData\\Local\\Temp\\pip-build-env-3hkt8raz\\overlay\\Lib\\site-packages\\setuptools\\command\\sdist.py\", line 102, in add_defaults\n",
      "        super().add_defaults()\n",
      "      File \"C:\\Users\\aliha\\AppData\\Local\\Temp\\pip-build-env-3hkt8raz\\overlay\\Lib\\site-packages\\setuptools\\_distutils\\command\\sdist.py\", line 251, in add_defaults\n",
      "        self._add_defaults_ext()\n",
      "      File \"C:\\Users\\aliha\\AppData\\Local\\Temp\\pip-build-env-3hkt8raz\\overlay\\Lib\\site-packages\\setuptools\\_distutils\\command\\sdist.py\", line 336, in _add_defaults_ext\n",
      "        self.filelist.extend(build_ext.get_source_files())\n",
      "                             ^^^^^^^^^^^^^^^^^^^^^^^^^^^^\n",
      "      File \"<string>\", line 204, in get_source_files\n",
      "      File \"C:\\Users\\aliha\\AppData\\Local\\Temp\\pip-build-env-3hkt8raz\\overlay\\Lib\\site-packages\\setuptools\\_distutils\\cmd.py\", line 107, in __getattr__\n",
      "        raise AttributeError(attr)\n",
      "    AttributeError: cython_sources\n",
      "    [end of output]\n",
      "  \n",
      "    note: This error originates from a subprocess, and is likely not a problem with pip.\n",
      "  error: subprocess-exited-with-error\n",
      "  \n",
      "  Getting requirements to build wheel did not run successfully.\n",
      "  exit code: 1\n",
      "  \n",
      "  See above for output.\n",
      "  \n",
      "  note: This error originates from a subprocess, and is likely not a problem with pip.\n",
      "  [end of output]\n",
      "  \n",
      "  note: This error originates from a subprocess, and is likely not a problem with pip.\n",
      "error: subprocess-exited-with-error\n",
      "\n",
      "pip subprocess to install build dependencies did not run successfully.\n",
      "exit code: 1\n",
      "\n",
      "See above for output.\n",
      "\n",
      "note: This error originates from a subprocess, and is likely not a problem with pip.\n"
     ]
    }
   ],
   "source": [
    "pip install catboost"
   ]
  },
  {
   "cell_type": "code",
   "execution_count": 8,
   "id": "2a2b214f",
   "metadata": {},
   "outputs": [
    {
     "name": "stdout",
     "output_type": "stream",
     "text": [
      "Collecting PyYAML==6.0\n",
      "  Downloading PyYAML-6.0.tar.gz (124 kB)\n",
      "     ---------------------------------------- 0.0/125.0 kB ? eta -:--:--\n",
      "     --- ------------------------------------ 10.2/125.0 kB ? eta -:--:--\n",
      "     --------- --------------------------- 30.7/125.0 kB 435.7 kB/s eta 0:00:01\n",
      "     ------------------ ------------------ 61.4/125.0 kB 469.7 kB/s eta 0:00:01\n",
      "     ------------------------------------ 125.0/125.0 kB 735.6 kB/s eta 0:00:00\n",
      "  Installing build dependencies: started\n",
      "  Installing build dependencies: finished with status 'done'\n",
      "  Getting requirements to build wheel: started\n",
      "  Getting requirements to build wheel: finished with status 'error'\n",
      "Note: you may need to restart the kernel to use updated packages.\n"
     ]
    },
    {
     "name": "stderr",
     "output_type": "stream",
     "text": [
      "  error: subprocess-exited-with-error\n",
      "  \n",
      "  Getting requirements to build wheel did not run successfully.\n",
      "  exit code: 1\n",
      "  \n",
      "  [54 lines of output]\n",
      "  running egg_info\n",
      "  writing lib\\PyYAML.egg-info\\PKG-INFO\n",
      "  writing dependency_links to lib\\PyYAML.egg-info\\dependency_links.txt\n",
      "  writing top-level names to lib\\PyYAML.egg-info\\top_level.txt\n",
      "  Traceback (most recent call last):\n",
      "    File \"C:\\Users\\aliha\\AppData\\Local\\Programs\\Python\\Python312\\Lib\\site-packages\\pip\\_vendor\\pyproject_hooks\\_in_process\\_in_process.py\", line 353, in <module>\n",
      "      main()\n",
      "    File \"C:\\Users\\aliha\\AppData\\Local\\Programs\\Python\\Python312\\Lib\\site-packages\\pip\\_vendor\\pyproject_hooks\\_in_process\\_in_process.py\", line 335, in main\n",
      "      json_out['return_val'] = hook(**hook_input['kwargs'])\n",
      "                               ^^^^^^^^^^^^^^^^^^^^^^^^^^^^\n",
      "    File \"C:\\Users\\aliha\\AppData\\Local\\Programs\\Python\\Python312\\Lib\\site-packages\\pip\\_vendor\\pyproject_hooks\\_in_process\\_in_process.py\", line 118, in get_requires_for_build_wheel\n",
      "      return hook(config_settings)\n",
      "             ^^^^^^^^^^^^^^^^^^^^^\n",
      "    File \"C:\\Users\\aliha\\AppData\\Local\\Temp\\pip-build-env-drbv0vsa\\overlay\\Lib\\site-packages\\setuptools\\build_meta.py\", line 325, in get_requires_for_build_wheel\n",
      "      return self._get_build_requires(config_settings, requirements=['wheel'])\n",
      "             ^^^^^^^^^^^^^^^^^^^^^^^^^^^^^^^^^^^^^^^^^^^^^^^^^^^^^^^^^^^^^^^^^\n",
      "    File \"C:\\Users\\aliha\\AppData\\Local\\Temp\\pip-build-env-drbv0vsa\\overlay\\Lib\\site-packages\\setuptools\\build_meta.py\", line 295, in _get_build_requires\n",
      "      self.run_setup()\n",
      "    File \"C:\\Users\\aliha\\AppData\\Local\\Temp\\pip-build-env-drbv0vsa\\overlay\\Lib\\site-packages\\setuptools\\build_meta.py\", line 311, in run_setup\n",
      "      exec(code, locals())\n",
      "    File \"<string>\", line 288, in <module>\n",
      "    File \"C:\\Users\\aliha\\AppData\\Local\\Temp\\pip-build-env-drbv0vsa\\overlay\\Lib\\site-packages\\setuptools\\__init__.py\", line 103, in setup\n",
      "      return distutils.core.setup(**attrs)\n",
      "             ^^^^^^^^^^^^^^^^^^^^^^^^^^^^^\n",
      "    File \"C:\\Users\\aliha\\AppData\\Local\\Temp\\pip-build-env-drbv0vsa\\overlay\\Lib\\site-packages\\setuptools\\_distutils\\core.py\", line 185, in setup\n",
      "      return run_commands(dist)\n",
      "             ^^^^^^^^^^^^^^^^^^\n",
      "    File \"C:\\Users\\aliha\\AppData\\Local\\Temp\\pip-build-env-drbv0vsa\\overlay\\Lib\\site-packages\\setuptools\\_distutils\\core.py\", line 201, in run_commands\n",
      "      dist.run_commands()\n",
      "    File \"C:\\Users\\aliha\\AppData\\Local\\Temp\\pip-build-env-drbv0vsa\\overlay\\Lib\\site-packages\\setuptools\\_distutils\\dist.py\", line 969, in run_commands\n",
      "      self.run_command(cmd)\n",
      "    File \"C:\\Users\\aliha\\AppData\\Local\\Temp\\pip-build-env-drbv0vsa\\overlay\\Lib\\site-packages\\setuptools\\dist.py\", line 963, in run_command\n",
      "      super().run_command(command)\n",
      "    File \"C:\\Users\\aliha\\AppData\\Local\\Temp\\pip-build-env-drbv0vsa\\overlay\\Lib\\site-packages\\setuptools\\_distutils\\dist.py\", line 988, in run_command\n",
      "      cmd_obj.run()\n",
      "    File \"C:\\Users\\aliha\\AppData\\Local\\Temp\\pip-build-env-drbv0vsa\\overlay\\Lib\\site-packages\\setuptools\\command\\egg_info.py\", line 321, in run\n",
      "      self.find_sources()\n",
      "    File \"C:\\Users\\aliha\\AppData\\Local\\Temp\\pip-build-env-drbv0vsa\\overlay\\Lib\\site-packages\\setuptools\\command\\egg_info.py\", line 329, in find_sources\n",
      "      mm.run()\n",
      "    File \"C:\\Users\\aliha\\AppData\\Local\\Temp\\pip-build-env-drbv0vsa\\overlay\\Lib\\site-packages\\setuptools\\command\\egg_info.py\", line 550, in run\n",
      "      self.add_defaults()\n",
      "    File \"C:\\Users\\aliha\\AppData\\Local\\Temp\\pip-build-env-drbv0vsa\\overlay\\Lib\\site-packages\\setuptools\\command\\egg_info.py\", line 588, in add_defaults\n",
      "      sdist.add_defaults(self)\n",
      "    File \"C:\\Users\\aliha\\AppData\\Local\\Temp\\pip-build-env-drbv0vsa\\overlay\\Lib\\site-packages\\setuptools\\command\\sdist.py\", line 102, in add_defaults\n",
      "      super().add_defaults()\n",
      "    File \"C:\\Users\\aliha\\AppData\\Local\\Temp\\pip-build-env-drbv0vsa\\overlay\\Lib\\site-packages\\setuptools\\_distutils\\command\\sdist.py\", line 251, in add_defaults\n",
      "      self._add_defaults_ext()\n",
      "    File \"C:\\Users\\aliha\\AppData\\Local\\Temp\\pip-build-env-drbv0vsa\\overlay\\Lib\\site-packages\\setuptools\\_distutils\\command\\sdist.py\", line 336, in _add_defaults_ext\n",
      "      self.filelist.extend(build_ext.get_source_files())\n",
      "                           ^^^^^^^^^^^^^^^^^^^^^^^^^^^^\n",
      "    File \"<string>\", line 204, in get_source_files\n",
      "    File \"C:\\Users\\aliha\\AppData\\Local\\Temp\\pip-build-env-drbv0vsa\\overlay\\Lib\\site-packages\\setuptools\\_distutils\\cmd.py\", line 107, in __getattr__\n",
      "      raise AttributeError(attr)\n",
      "  AttributeError: cython_sources\n",
      "  [end of output]\n",
      "  \n",
      "  note: This error originates from a subprocess, and is likely not a problem with pip.\n",
      "error: subprocess-exited-with-error\n",
      "\n",
      "Getting requirements to build wheel did not run successfully.\n",
      "exit code: 1\n",
      "\n",
      "See above for output.\n",
      "\n",
      "note: This error originates from a subprocess, and is likely not a problem with pip.\n"
     ]
    }
   ],
   "source": [
    "pip install PyYAML==6.0\n"
   ]
  },
  {
   "cell_type": "code",
   "execution_count": 3,
   "id": "d5932c76",
   "metadata": {},
   "outputs": [
    {
     "name": "stdout",
     "output_type": "stream",
     "text": [
      "Files removed: 1677\n",
      "Note: you may need to restart the kernel to use updated packages.\n"
     ]
    }
   ],
   "source": [
    "pip cache purge"
   ]
  },
  {
   "cell_type": "code",
   "execution_count": 4,
   "id": "7adfa2fe",
   "metadata": {},
   "outputs": [
    {
     "name": "stdout",
     "output_type": "stream",
     "text": [
      "Requirement already satisfied: setuptools in c:\\users\\aliha\\appdata\\local\\programs\\python\\python312\\lib\\site-packages (69.1.0)\n",
      "Note: you may need to restart the kernel to use updated packages.\n"
     ]
    }
   ],
   "source": [
    "pip install --upgrade setuptools\n"
   ]
  },
  {
   "cell_type": "code",
   "execution_count": 6,
   "id": "1d657b6a",
   "metadata": {},
   "outputs": [
    {
     "name": "stdout",
     "output_type": "stream",
     "text": [
      "^C\n",
      "Note: you may need to restart the kernel to use updated packages.\n"
     ]
    }
   ],
   "source": [
    "pip uninstall Cython\n"
   ]
  },
  {
   "cell_type": "code",
   "execution_count": 7,
   "id": "7c90c1e2",
   "metadata": {},
   "outputs": [
    {
     "name": "stdout",
     "output_type": "stream",
     "text": [
      "Requirement already satisfied: Cython in c:\\users\\aliha\\appdata\\local\\programs\\python\\python312\\lib\\site-packages (0.29.37)Note: you may need to restart the kernel to use updated packages.\n",
      "\n"
     ]
    }
   ],
   "source": [
    "pip install Cython"
   ]
  },
  {
   "cell_type": "code",
   "execution_count": null,
   "id": "d03989a5",
   "metadata": {},
   "outputs": [],
   "source": []
  }
 ],
 "metadata": {
  "kernelspec": {
   "display_name": "Python 3 (ipykernel)",
   "language": "python",
   "name": "python3"
  },
  "language_info": {
   "codemirror_mode": {
    "name": "ipython",
    "version": 3
   },
   "file_extension": ".py",
   "mimetype": "text/x-python",
   "name": "python",
   "nbconvert_exporter": "python",
   "pygments_lexer": "ipython3",
   "version": "3.12.1"
  }
 },
 "nbformat": 4,
 "nbformat_minor": 5
}
